{
 "cells": [
  {
   "cell_type": "markdown",
   "id": "31353182",
   "metadata": {},
   "source": [
    "# `QPOEstimation` tutorial"
   ]
  },
  {
   "cell_type": "code",
   "execution_count": null,
   "id": "6902ee95",
   "metadata": {},
   "outputs": [],
   "source": [
    "%matplotlib inline\n",
    "\n",
    "import os\n",
    "from pathlib import Path\n",
    "from scipy.signal import periodogram\n",
    "\n",
    "import matplotlib\n",
    "import matplotlib.pyplot as plt\n",
    "\n",
    "import QPOEstimation\n",
    "from QPOEstimation.get_data import *\n",
    "from QPOEstimation.likelihood import get_kernel, get_mean_model, get_gp_likelihood\n",
    "from QPOEstimation.prior import get_priors\n",
    "from QPOEstimation.prior.gp import *\n",
    "from QPOEstimation.utils import *"
   ]
  },
  {
   "cell_type": "markdown",
   "id": "bd345f28",
   "metadata": {},
   "source": [
    "## Settings\n",
    "\n",
    "Below are all possible options to set for runs. I tried my best to add some documentation. Generally, options are listed in `QPOEstimation.parse`."
   ]
  },
  {
   "cell_type": "markdown",
   "id": "0a038547",
   "metadata": {},
   "source": [
    "### Basic data selection settings\n",
    "\n",
    "These settings to point to the right data directory and correctly truncate the data if desired. The data is loaded from the local directories. Other data has to be added to these directories or loaded manually.\n",
    "\n",
    "- `data_source`: Must be from `QPOEstimation.parse.DATA_SOURCES`. \n",
    "    - `\"injection\"`: Use \"Injected\", i.e. simulated data\n",
    "    - `\"giant_flare\"`: Use data from the SGR 1806-20 Giant flare\n",
    "    - `\"solar_flare\"`: Use solar flare data.\n",
    "    - `\"grb\"`: Use GRB data.\n",
    "    - `\"magnetar_flare\"`: Use magnetar flare data that is stored as time-tagged events.\n",
    "    - `\"magnetar_flare_binned\"`: Use binned magnetar flare data.\n",
    "    - `\"hares_and_hounds\"`: Use simulated data from Broomhall et al. 2019\n",
    "- `run_modes`: Must be from `QPOEstimation.parse.RUN_MODES`. \n",
    "    - `\"entire_segment\"`: Use the entire possible data set.\n",
    "    - `\"select_time\"`: Only use data between `start_time` and `end_time`.\n",
    "    - `\"from_maximum\"`: truncate all data left of the maximum.\n",
    "- `start_time`/`end_time`: When using `\"select_time\"` as run mode setting, where to truncate the data. "
   ]
  },
  {
   "cell_type": "code",
   "execution_count": null,
   "id": "0bcda22a",
   "metadata": {},
   "outputs": [],
   "source": [
    "data_source = \"magnetar_flare_binned\"\n",
    "run_mode = \"entire_segment\"\n",
    "start_time = 0\n",
    "end_time = 1"
   ]
  },
  {
   "cell_type": "markdown",
   "id": "926d37a4",
   "metadata": {},
   "source": [
    "### Source specific data settings\n",
    "In the following are settings specific to the `data_source` settings. Only the relevant one needs to be set. Settings for other sources are ignored."
   ]
  },
  {
   "cell_type": "markdown",
   "id": "485fa3bd",
   "metadata": {},
   "source": [
    "#### Hares and Hounds settings\n",
    "- `hares_and_hounds_id`: ID number of the desired data set.\n",
    "- `hares_and_hounds_round`: `\"HH2\"` are the data sets we analysed for the paper. Otherwise use `\"flare_sims\"`, `\"hh_change_bw\"`, or `\"HH_smooth\"`."
   ]
  },
  {
   "cell_type": "code",
   "execution_count": null,
   "id": "d6d64d77",
   "metadata": {},
   "outputs": [],
   "source": [
    "hares_and_hounds_id = \"455290\"\n",
    "hares_and_hounds_round = \"HH2\""
   ]
  },
  {
   "cell_type": "markdown",
   "id": "014ed836",
   "metadata": {},
   "source": [
    "#### Solar flare settings\n",
    "- `solar_flare_folder`: The folder within `data/SolarFlare` to use.\n",
    "- `solar_flare_id`: The label of the data file."
   ]
  },
  {
   "cell_type": "code",
   "execution_count": null,
   "id": "c3ccd9eb",
   "metadata": {},
   "outputs": [],
   "source": [
    "solar_flare_folder = \"goes\"\n",
    "solar_flare_id = \"go1520130512\""
   ]
  },
  {
   "cell_type": "markdown",
   "id": "a1f68d8e",
   "metadata": {},
   "source": [
    "#### GRB settings\n",
    "\n",
    "These are just tailored to the few things we were looking at. It may make more sense to manually load in the data instead of using these functionalties.\n",
    "\n",
    "- `grb_id`: The GRB name.\n",
    "- `grb_label`: The label used for ASIM data.\n",
    "- `grb_binning`: The binning for the Batse, Konus, or Swift data.\n",
    "- `grb_detector`: `\"batse`\", `\"konus\"`, or `\"swift\"`\n",
    "- `grb_energy_band`: The bands to use for swift data. Must be from `QPOEstimation.parse.GRB_ENERGY_BANDS`."
   ]
  },
  {
   "cell_type": "code",
   "execution_count": null,
   "id": "9d7685e6",
   "metadata": {},
   "outputs": [],
   "source": [
    "grb_id = \"090709A\"\n",
    "grb_label = \"\"\n",
    "grb_binning = \"1s\"\n",
    "grb_detector = \"swift\"\n",
    "grb_energy_band = \"all\""
   ]
  },
  {
   "cell_type": "markdown",
   "id": "a3f432ff",
   "metadata": {},
   "source": [
    "#### Magnetar flare settings\n",
    "\n",
    "Magnetar data comes either as time-tagged event data (TTE) or already binned, hence the two `data_source` options.\n",
    "\n",
    "- `magnetar_label`: The name of the magnetar.\n",
    "- `magnetar_tag`: The filename of the specific flare of interest.\n",
    "- `bin_size`: When using the unbinned `\"magnetar_flare\"` `data_source` setting, how finely to bin the data.\n",
    "- `magnetar_subtract_t0`: Whether to set the time so that the first bin occurs at `t = 0`.\n",
    "- `magnetar_unbarycentred_time`: For the TTE data whether to use the unbarycentered time.\n",
    "- `rebin_factor`: For the binned data, makes the binning coarser. Useful if there are too few counts per bin."
   ]
  },
  {
   "cell_type": "code",
   "execution_count": null,
   "id": "92c19659",
   "metadata": {},
   "outputs": [],
   "source": [
    "magnetar_label = \"SGR_0501\"\n",
    "magnetar_tag = \"080823478_lcobs\"\n",
    "bin_size = 0.001\n",
    "magnetar_subtract_t0 = True\n",
    "magnetar_unbarycentred_time = False\n",
    "rebin_factor = 8"
   ]
  },
  {
   "cell_type": "markdown",
   "id": "8583de93",
   "metadata": {},
   "source": [
    "#### Giant flare settings\n",
    "\n",
    "- `sampling_frequency`: The sampling frequency of the data in Hz.\n",
    "- `period_number`: When using `run_mode = \"sliding_window\"`, which rotation period of the magnetar to use. These are separated by 7.56 seconds.\n",
    "- `segment_length`: When using `run_mode = \"sliding_window\"`, the duration of the selected time to analyse.\n",
    "- `segment_step`: When using `run_mode = \"sliding_window\"`, by how much to step the sliding window forward.\n",
    "- `run_id`:  When using `run_mode = \"sliding_window\"`, how many segment steps to go forward from the start of the rotation period. "
   ]
  },
  {
   "cell_type": "code",
   "execution_count": null,
   "id": "b4165bb1",
   "metadata": {},
   "outputs": [],
   "source": [
    "sampling_frequency = 64\n",
    "period_number = 14\n",
    "segment_length = 3.5\n",
    "segment_step = 0.23625  # Requires 32 steps\n",
    "run_id = 6"
   ]
  },
  {
   "cell_type": "markdown",
   "id": "d0d71180",
   "metadata": {},
   "source": [
    "#### Injection data settings\n",
    "\n",
    "These settings should point to the correct injection (i.e. simulated) data files, if they were created using `inject.py`.\n",
    "\n",
    "- `injection_id`: The ID number of the injection file.\n",
    "- `base_injection_outdir`: Where the injected data files are stored.\n",
    "- `injection_file_dir`: The specific subdirectory where the injection file is stored\n",
    "- `injection_mode`: Must be from `QPOEstimation.parse.MODES`. The kernel model that was used to create the injection data.\n",
    "    - `\"red_noise\"`: The red noise kernel.\n",
    "    - `\"pure_qpo\"`: The QPO kernel without any red noise.\n",
    "    - `\"qpo_plus_red_noise\"`: The QPO kernel plus the red noise kernel.\n",
    "    - `\"qpo\"`: The QPO kernel as defined in the celerite paper (we use `\"qpo_plus_red_noise\"` instead)\n",
    "    - `\"white_noise\"`: No kernel, just constant white noise\n",
    "    - `\"matern32\"`, `\"matern52\"`, `\"exp_sine2\"`, `\"rational_quadratic\"`,  `\"exp_squared\"`, `\"exp_sine2_rn\"`: Additional kernel functions that can be used with `george`\n",
    "- `injection_likelihood_model`: The GP model used in the data created. Should be from `QPOEstimation.parse.LIKELIHOOD_MODELS`.\n",
    "    - `\"celerite\"`: Use `celerite` to set up the likelihood, use in conjuncture with `\"red_noise\"`, `\"pure_qpo\"`, `\"qpo_plus_red_noise\"`, `\"qpo\"`, and `\"white_noise\"` kernels.\n",
    "    - `\"celerite_windowed\"`: The same as `\"celerite\"` but with a non-stationary extension. Adds a start and end time parameter, between which the GP is applied. Outside this \"window\", white noise is applied.\n",
    "    - `\"george\"`: Use `george` to set up the likelihood, use in conjuncture with `\"matern32\"`, `\"matern52\"`, `\"exp_sine2\"`, `\"rational_quadratic\"`,  `\"exp_squared\"`, and `\"exp_sine2_rn\"`."
   ]
  },
  {
   "cell_type": "code",
   "execution_count": null,
   "id": "0764e46e",
   "metadata": {},
   "outputs": [],
   "source": [
    "injection_id = 1\n",
    "base_injection_outdir = \"injections/injection\"\n",
    "injection_file_dir = \"injection_files_pop\"\n",
    "\n",
    "injection_mode = \"qpo_plus_red_noise\"\n",
    "injection_likelihood_model = \"celerite\""
   ]
  },
  {
   "cell_type": "markdown",
   "id": "97db3afb",
   "metadata": {},
   "source": [
    "### Prior settings\n",
    "\n",
    "These are mostly set automatically from the data and you can leave them set at `None`. You shouldn't have to set these manually in most cases.\n",
    "\n",
    "- `polynomial_max`: Maximal value of the polynomial coefficients when using a polynomial mean model.\n",
    "- `amplitude_min`/`amplitude_max`: The minimum/maximum of the amplitude parameter(s).\n",
    "- `offset_min`/`offset_max`: The minimum/maximum offset if we use a constant offset in the mean model.\n",
    "- `sigma_min`/`sigma_max`: The minimum/maximum width parameter(s).\n",
    "- `t_0_min`/`t_0_max`: The minimum/maximum flare peak location parameter(s).\n",
    "- `min_log_a`/`max_log_a`: The minimum/maximum kernel log amplitude.\n",
    "- `min_log_c_red_noise`/`max_log_c_red_noise`: The minimum/maximum red noise kernel log inverse decay time.\n",
    "- `min_log_c_qpo`/`max_log_c_qpo`: The minimum/maximum QPO kernel log inverse decay time.\n",
    "- `minimum_window_spacing`: Minimal GP duration for the `celerite_windowed` likelihood model.\n",
    "- `band_minimum`/`band_maximum`: The minimum/maximum frequency."
   ]
  },
  {
   "cell_type": "code",
   "execution_count": null,
   "id": "1b13972a",
   "metadata": {},
   "outputs": [],
   "source": [
    "polynomial_max = 2\n",
    "amplitude_min = None\n",
    "amplitude_max = None\n",
    "offset_min = None\n",
    "offset_max = None\n",
    "sigma_min = None\n",
    "sigma_max = None\n",
    "t_0_min = None\n",
    "t_0_max = None\n",
    "\n",
    "min_log_a = None\n",
    "max_log_a = None\n",
    "min_log_c_red_noise = None\n",
    "min_log_c_qpo = None\n",
    "max_log_c_red_noise = None\n",
    "max_log_c_qpo = None\n",
    "minimum_window_spacing = 0\n",
    "\n",
    "band_minimum = None\n",
    "band_maximum = None"
   ]
  },
  {
   "cell_type": "markdown",
   "id": "c329db2c",
   "metadata": {},
   "source": [
    "### Settings for the kernel/mean model and the specific likelihood\n",
    "\n",
    "- `recovery_mode`: Must be from `QPOEstimation.parse.MODES`, usually `red_noise` or `qpo_plus_red_noise`\n",
    "    - `\"red_noise\"`: The red noise kernel.\n",
    "    - `\"pure_qpo\"`: The QPO kernel without any red noise.\n",
    "    - `\"qpo_plus_red_noise\"`: The QPO kernel plus the red noise kernel.\n",
    "    - `\"qpo\"`: The QPO kernel as defined in the celerite paper (we use `\"qpo_plus_red_noise\"` instead)\n",
    "    - `\"white_noise\"`: No kernel, just constant white noise\n",
    "    - `\"matern32\"`, `\"matern52\"`, `\"exp_sine2\"`, `\"rational_quadratic\"`,  `\"exp_squared\"`, `\"exp_sine2_rn\"`: Additional kernel functions that can be used with `george`\n",
    "- `likelihood_model`: Must be from `QPOEstimation.parse.LIKELIHOOD_MODELS`. In this case `\"celerite\"`, `\"celerite_windowed\"`, or `\"george\"`.\n",
    "    - `\"celerite\"`: Use `celerite` to set up the likelihood, use in conjuncture with `\"red_noise\"`, `\"pure_qpo\"`, `\"qpo_plus_red_noise\"`, `\"qpo\"`, and `\"white_noise\"` kernels.\n",
    "    - `\"celerite_windowed\"`: The same as `\"celerite\"` but with a non-stationary extension. Adds a start and end time parameter, between which the GP is applied. Outside this \"window\", white noise is applied.\n",
    "    - `\"george\"`: Use `george` to set up the likelihood, use in conjuncture with `\"matern32\"`, `\"matern52\"`, `\"exp_sine2\"`, `\"rational_quadratic\"`,  `\"exp_squared\"`, and `\"exp_sine2_rn\"`.\n",
    "- `background_model`: Must be from `QPOEstimation.parse.BACKGROUND_MODELS` or a constant float. \n",
    "    - `\"skew_gaussian\"`: The skewed Gaussian model.\n",
    "    - `\"skew_exponential\"`: The skewed exponential model.\n",
    "    - `\"fred\"`: The fast-rise exponential decay model.\n",
    "    - `\"mean\"`: A constant mean value (no parameters).\n",
    "    - `\"polynomial\"`: A polynomial up to the fourth order.\n",
    "- `n_components`: How many of the `background_model` shapes we are using, e.g. `2` if we want to fit two `\"skew_gaussian\"` curves.\n",
    "- `jitter_term`: Whether to add an additional free white noise term.\n",
    "- `normalisation`: Normalises data so that `0 <= y <= 1` for all data points.\n",
    "- `offset`: Whether to add a constant offset parameter to the mean model."
   ]
  },
  {
   "cell_type": "code",
   "execution_count": null,
   "id": "c30efdd8",
   "metadata": {},
   "outputs": [],
   "source": [
    "recovery_mode = \"qpo_plus_red_noise\"\n",
    "likelihood_model = \"celerite\"\n",
    "background_model = \"skew_gaussian\"\n",
    "n_components = 1\n",
    "jitter_term = False\n",
    "normalisation = False\n",
    "offset = False"
   ]
  },
  {
   "cell_type": "markdown",
   "id": "84d3dbff",
   "metadata": {},
   "source": [
    "### Settings for the sampling procedure.\n",
    "\n",
    "`sample = \"rslice\"` is faster but less accurate than `sample = \"rwalk\"`.\n",
    "\n",
    "`nlive = 1000` should be sufficient for most setups."
   ]
  },
  {
   "cell_type": "code",
   "execution_count": null,
   "id": "bd921b7d",
   "metadata": {},
   "outputs": [],
   "source": [
    "sample = \"rslice\"\n",
    "nlive = 1000"
   ]
  },
  {
   "cell_type": "markdown",
   "id": "6b3c563c",
   "metadata": {},
   "source": [
    "### Whether to try to load an existing result file for these settings or try to resume from a run checkpoint.\n"
   ]
  },
  {
   "cell_type": "code",
   "execution_count": null,
   "id": "d82f6f3d",
   "metadata": {},
   "outputs": [],
   "source": [
    "try_load = False\n",
    "resume = False"
   ]
  },
  {
   "cell_type": "markdown",
   "id": "1b7e19f8",
   "metadata": {},
   "source": [
    "### Some additional settings to make the result file labels distinguishable"
   ]
  },
  {
   "cell_type": "code",
   "execution_count": null,
   "id": "eec7f57f",
   "metadata": {},
   "outputs": [],
   "source": [
    "suffix = f\"_{n_components}_{background_model}s\"\n",
    "band = f\"{band_minimum}_{band_maximum}Hz\"\n",
    "truths = None\n",
    "recovery_mode_str = recovery_mode\n",
    "if jitter_term:\n",
    "    recovery_mode_str += \"_jitter\""
   ]
  },
  {
   "cell_type": "markdown",
   "id": "435cd5e2",
   "metadata": {},
   "source": [
    "### Call to the catch-all `get_data` function\n",
    "\n",
    "If you want to load your own data or manually set output directories and labels, this is the piece of code to replace."
   ]
  },
  {
   "cell_type": "code",
   "execution_count": null,
   "id": "7216d322",
   "metadata": {},
   "outputs": [],
   "source": [
    "times, y, yerr, outdir, label = get_data(\n",
    "    data_source=data_source, band=band, segment_length=segment_length,\n",
    "    sampling_frequency=sampling_frequency,\n",
    "    period_number=period_number, run_id=run_id, segment_step=segment_step, start_time=start_time, end_time=end_time,\n",
    "    run_mode=run_mode, recovery_mode=recovery_mode, recovery_mode_str=recovery_mode_str, likelihood_model=likelihood_model,\n",
    "    magnetar_label=magnetar_label,  magnetar_tag=magnetar_tag, bin_size=bin_size,\n",
    "    magnetar_subtract_t0=magnetar_subtract_t0, magnetar_unbarycentred_time=magnetar_unbarycentred_time,\n",
    "    rebin_factor=rebin_factor, solar_flare_folder=solar_flare_folder, solar_flare_id=solar_flare_id,\n",
    "    grb_id=grb_id, grb_binning=grb_binning, grb_detector=grb_detector, grb_label=grb_label, grb_energy_band=grb_energy_band,\n",
    "    injection_file_dir=injection_file_dir, injection_mode=injection_mode, injection_id=injection_id,\n",
    "    injection_likelihood_model=injection_likelihood_model, hares_and_hounds_id=hares_and_hounds_id,\n",
    "    hares_and_hounds_round=hares_and_hounds_round, base_injection_outdir=base_injection_outdir\n",
    "    )\n",
    "label += suffix"
   ]
  },
  {
   "cell_type": "markdown",
   "id": "db5711df",
   "metadata": {},
   "source": [
    "### Whether to normalise the data to be between 0 and 1"
   ]
  },
  {
   "cell_type": "code",
   "execution_count": null,
   "id": "bd7551c4",
   "metadata": {},
   "outputs": [],
   "source": [
    "if normalisation:\n",
    "    y = (y - np.min(y))/(np.max(y) - np.min(y)) * 1\n",
    "    yerr = yerr/(np.max(y) - np.min(y))\n"
   ]
  },
  {
   "cell_type": "markdown",
   "id": "f1880e3e",
   "metadata": {},
   "source": [
    "### Plot the time-domain data"
   ]
  },
  {
   "cell_type": "code",
   "execution_count": null,
   "id": "d760ca88",
   "metadata": {},
   "outputs": [],
   "source": [
    "plt.errorbar(times, y, yerr=yerr, fmt=\".k\", capsize=0, label=\"data\")\n",
    "plt.xlabel(\"time [s]\")\n",
    "plt.ylabel(\"flux\")\n",
    "plt.show()"
   ]
  },
  {
   "cell_type": "markdown",
   "id": "9c5aeaf7",
   "metadata": {},
   "source": [
    "### Plot the frequency-domain data"
   ]
  },
  {
   "cell_type": "code",
   "execution_count": null,
   "id": "795805b2",
   "metadata": {},
   "outputs": [],
   "source": [
    "fs = 1/(times[1] - times[0])\n",
    "freqs, powers = periodogram(y, fs=fs, window=\"hann\")\n",
    "plt.loglog()\n",
    "plt.step(freqs[1:], powers[1:])\n",
    "plt.xlabel(\"frequency [Hz]\")\n",
    "plt.ylabel(\"Power [arb. units]\")\n",
    "plt.show()"
   ]
  },
  {
   "cell_type": "markdown",
   "id": "07cfed23",
   "metadata": {},
   "source": [
    "### Get the priors"
   ]
  },
  {
   "cell_type": "code",
   "execution_count": null,
   "id": "7e3bcef8",
   "metadata": {},
   "outputs": [],
   "source": [
    "mean_prior_bound_dict = dict(\n",
    "    amplitude_min=amplitude_min,\n",
    "    amplitude_max=amplitude_max,\n",
    "    offset_min=offset_min,\n",
    "    offset_max=offset_max,\n",
    "    sigma_min=sigma_min,\n",
    "    sigma_max=sigma_max,\n",
    "    t_0_min=t_0_min,\n",
    "    t_0_max=t_0_max,\n",
    ")\n",
    "\n",
    "kernel_prior_bound_dict = dict(\n",
    "    min_log_a=min_log_a, max_log_a=max_log_a,\n",
    "    min_log_c_red_noise=min_log_c_red_noise, \n",
    "    max_log_c_red_noise=max_log_c_red_noise,\n",
    "    min_log_c_qpo=min_log_c_qpo, \n",
    "    max_log_c_qpo=max_log_c_qpo, \n",
    "    band_minimum=band_minimum, \n",
    "    band_maximum=band_maximum,\n",
    ")\n",
    "\n",
    "priors = get_priors(\n",
    "    times=times, y=y, yerr=yerr, likelihood_model=likelihood_model, kernel_type=recovery_mode,\n",
    "    model_type=background_model, polynomial_max=polynomial_max, minimum_spacing=minimum_window_spacing,\n",
    "    n_components=n_components, offset=offset, jitter_term=jitter_term, \n",
    "    **kernel_prior_bound_dict, **mean_prior_bound_dict)"
   ]
  },
  {
   "cell_type": "markdown",
   "id": "94f78f3b",
   "metadata": {},
   "source": [
    "### Construct the mean model, kernel, and likelihood."
   ]
  },
  {
   "cell_type": "code",
   "execution_count": null,
   "id": "d889b43f",
   "metadata": {},
   "outputs": [],
   "source": [
    "mean_model = get_mean_model(\n",
    "    model_type=background_model, n_components=n_components, y=y, offset=offset,\n",
    "    likelihood_model=likelihood_model)\n",
    "kernel = get_kernel(kernel_type=recovery_mode, jitter_term=jitter_term)\n",
    "likelihood = get_gp_likelihood(mean_model=mean_model, kernel=kernel, times=times, y=y, yerr=yerr,\n",
    "                               likelihood_model=likelihood_model)"
   ]
  },
  {
   "cell_type": "markdown",
   "id": "efa86fa4",
   "metadata": {},
   "source": [
    "### Store the `meta_data`\n",
    "\n",
    "This information is stored in the result file and can be used to reconstruct the data and the model used in the inference process."
   ]
  },
  {
   "cell_type": "code",
   "execution_count": null,
   "id": "ec081ec1",
   "metadata": {},
   "outputs": [],
   "source": [
    "meta_data = dict(\n",
    "    kernel_type=recovery_mode, mean_model=background_model, times=times,\n",
    "    y=y, yerr=yerr, likelihood_model=likelihood_model, truths=truths, n_components=n_components,\n",
    "    offset=offset, jitter_term=jitter_term)"
   ]
  },
  {
   "cell_type": "markdown",
   "id": "5334b2ad",
   "metadata": {},
   "source": [
    "### Run the inference process\n",
    "\n",
    "If `try_load = True`, try to load the result first. Otherwise, run the inference process using the usual `bilby` interface."
   ]
  },
  {
   "cell_type": "code",
   "execution_count": null,
   "id": "736508da",
   "metadata": {},
   "outputs": [],
   "source": [
    "result = None\n",
    "if try_load:\n",
    "    try:\n",
    "        result = QPOEstimation.result.GPResult.from_json(outdir=f\"{outdir}/results\", label=label)\n",
    "        result.outdir = f\"{outdir}/results\"\n",
    "    except IOError:\n",
    "        bilby.utils.logger.info(\"No result file found. Starting from scratch\")\n",
    "if result is None:\n",
    "    Path(f\"{outdir}/results\").mkdir(parents=True, exist_ok=True)\n",
    "    result = bilby.run_sampler(likelihood=likelihood, priors=priors, outdir=f\"{outdir}/results\",\n",
    "                               label=label, sampler=\"dynesty\", nlive=nlive, sample=sample,\n",
    "                               resume=resume, result_class=QPOEstimation.result.GPResult,\n",
    "                               meta_data=meta_data, save=True, gzip=False, nact=5, clean=True)"
   ]
  },
  {
   "cell_type": "markdown",
   "id": "16d0ed31",
   "metadata": {},
   "source": [
    "### Plotting functionalities"
   ]
  },
  {
   "cell_type": "code",
   "execution_count": null,
   "id": "940a079d",
   "metadata": {},
   "outputs": [],
   "source": [
    "result.plot_lightcurve()\n",
    "result.plot_kernel()\n",
    "result.plot_max_likelihood_psd()\n",
    "result.plot_residual()\n",
    "result.plot_frequency_posterior()\n",
    "result.plot_period_posterior()\n",
    "result.plot_duration_posterior()\n",
    "# result.plot_all(paper_style=True)"
   ]
  },
  {
   "cell_type": "markdown",
   "id": "17aecea1",
   "metadata": {},
   "source": [
    "### Location of additional information\n",
    "\n",
    "`bilby` stores some information of the run in the result file. We can access many of these as properties, for example the log evidence"
   ]
  },
  {
   "cell_type": "code",
   "execution_count": null,
   "id": "eacd7c8b",
   "metadata": {},
   "outputs": [],
   "source": [
    "print(result.log_evidence)"
   ]
  }
 ],
 "metadata": {
  "kernelspec": {
   "display_name": "Python 3 (ipykernel)",
   "language": "python",
   "name": "python3"
  },
  "language_info": {
   "codemirror_mode": {
    "name": "ipython",
    "version": 3
   },
   "file_extension": ".py",
   "mimetype": "text/x-python",
   "name": "python",
   "nbconvert_exporter": "python",
   "pygments_lexer": "ipython3",
   "version": "3.10.0"
  }
 },
 "nbformat": 4,
 "nbformat_minor": 5
}
